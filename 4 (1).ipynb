{
 "cells": [
  {
   "cell_type": "code",
   "execution_count": null,
   "id": "be34070a-6dc1-422d-9f0d-5e1e850245ae",
   "metadata": {},
   "outputs": [],
   "source": [
    "Ans:1\n",
    "\n",
    "Min-Max scaling, also known as Min-Max normalization, is a data preprocessing technique used to transform numerical features in a dataset to a specific range, typically between 0 and 1. The purpose of Min-Max scaling is to rescale the data so that all features have the same range, which can be important for certain machine learning algorithms, especially those that are sensitive to the scale of the input features."
   ]
  },
  {
   "cell_type": "code",
   "execution_count": null,
   "id": "9aa7c4c0-90f6-4c5e-8e15-21d5a07eec91",
   "metadata": {},
   "outputs": [],
   "source": [
    "Ans:2\n",
    "The Unit Vector technique, also known as Vector Normalization, is a feature scaling method used to transform data in a way that each data point (vector) has a magnitude of 1. It rescales the features in a dataset so that they are represented as vectors with a length (norm) of 1. "
   ]
  },
  {
   "cell_type": "code",
   "execution_count": null,
   "id": "5a040f17-60bf-425a-b772-8540cdb11c9b",
   "metadata": {},
   "outputs": [],
   "source": [
    "Ans:3\n",
    "PCA, which stands for Principal Component Analysis, is a widely used technique in statistics and machine learning for dimensionality reduction. Its primary purpose is to transform a high-dimensional dataset into a lower-dimensional space while retaining as much of the original data's variance as possible. By doing so, PCA helps simplify the dataset, remove noise, and facilitate data visualization and analysis.\n",
    "\n"
   ]
  },
  {
   "cell_type": "code",
   "execution_count": null,
   "id": "bf1728fd-003a-4aec-ac74-e118ca398bd8",
   "metadata": {},
   "outputs": [],
   "source": [
    "Ans:4\n",
    "PCA (Principal Component Analysis) is closely related to feature extraction. In fact, PCA is a specific technique used for feature extraction, which is a broader term encompassing various methods to derive a reduced set of features from the original high-dimensional dataset.\n",
    "\n",
    "Feature extraction is the process of selecting or creating a smaller subset of features from the original feature space while preserving as much relevant information as possible. It is used to simplify the dataset, reduce computational complexity, and remove noise or irrelevant features that might hinder the performance of machine learning models."
   ]
  },
  {
   "cell_type": "code",
   "execution_count": null,
   "id": "82b04219-c1b7-48ae-b910-99f4f85d6916",
   "metadata": {},
   "outputs": [],
   "source": [
    "Ans:5\n",
    "To preprocess the data for building a recommendation system for a food delivery service using Min-Max scaling, follow these steps:\n",
    "\n",
    "Understand the Data: Analyze the dataset to identify the features that need scaling. In this case, the features that require scaling are \"price,\" \"rating,\" and \"delivery time.\"\n",
    "\n",
    "Compute Min and Max Values: Calculate the minimum and maximum values for each of the features \"price,\" \"rating,\" and \"delivery time\" in the dataset. These values will be used in the Min-Max scaling formula.\n",
    "\n",
    "Apply Min-Max Scaling: Use the Min-Max scaling formula to scale each feature to a new range, typically between 0 and 1. The formula for Min-Max scaling of a feature 'x' from its original range [min(x), max(x)] to the new range [a, b] is given by:\n",
    "\n",
    "\n"
   ]
  },
  {
   "cell_type": "code",
   "execution_count": null,
   "id": "e7700e64-238e-41b9-87ee-7def50968471",
   "metadata": {},
   "outputs": [],
   "source": [
    "Ans:6\n",
    "To reduce the dimensionality of the dataset for predicting stock prices using PCA, follow these steps:\n",
    "\n",
    "Understand the Data: Analyze the dataset to identify the features that need dimensionality reduction. In this case, the dataset contains various features, including company financial data and market trends, which can be high-dimensional.\n",
    "\n",
    "Standardize the Data: Before applying PCA, it's essential to standardize the data. Standardization involves subtracting the mean and scaling each feature to have unit variance. This step ensures that features with larger scales do not dominate the PCA process.\n",
    "\n",
    "Compute the Covariance Matrix: Calculate the covariance matrix based on the standardized data. The covariance matrix captures the relationships between different features and their variances.\n",
    "\n",
    "Compute Eigenvectors and Eigenvalues: Calculate the eigenvectors and eigenvalues of the covariance matrix. The eigenvectors represent the principal components, and the corresponding eigenvalues indicate the amount of variance captured by each principal component"
   ]
  },
  {
   "cell_type": "code",
   "execution_count": null,
   "id": "fa19cc7e-51d6-46a0-ac13-a36b4f381845",
   "metadata": {},
   "outputs": [],
   "source": []
  }
 ],
 "metadata": {
  "kernelspec": {
   "display_name": "Python 3 (ipykernel)",
   "language": "python",
   "name": "python3"
  },
  "language_info": {
   "codemirror_mode": {
    "name": "ipython",
    "version": 3
   },
   "file_extension": ".py",
   "mimetype": "text/x-python",
   "name": "python",
   "nbconvert_exporter": "python",
   "pygments_lexer": "ipython3",
   "version": "3.10.8"
  }
 },
 "nbformat": 4,
 "nbformat_minor": 5
}
